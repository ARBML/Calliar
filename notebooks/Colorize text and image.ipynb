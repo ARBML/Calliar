{
 "cells": [
  {
   "cell_type": "code",
   "execution_count": 1,
   "id": "binding-membrane",
   "metadata": {},
   "outputs": [
    {
     "name": "stdout",
     "output_type": "stream",
     "text": [
      "\u001b[31mhello\u001b[0m \u001b[32mworld\u001b[0m\n",
      "\u001b[31mhello red world\u001b[0m\n"
     ]
    }
   ],
   "source": [
    "from termcolor import colored\n",
    "print(colored('hello', 'red'), colored('world', 'green'))\n",
    "print(colored(\"hello red world\", 'red'))"
   ]
  },
  {
   "cell_type": "code",
   "execution_count": 198,
   "id": "sitting-blend",
   "metadata": {},
   "outputs": [],
   "source": [
    "out = [{'.': [[332, 124]]},\n",
    "{'ح': [[331, 150], [336, 149], [354, 169], [318, 169]]},\n",
    "{'ا': [[321, 170], [315, 169], [308, 162], [303, 124]]},\n",
    "{'ل': [[286, 119], [286, 157], [282, 163], [268, 163]]},\n",
    "{'د': [[250, 144], [260, 156], [264, 172], [259, 176], [244, 176], [238, 171]]}]"
   ]
  },
  {
   "cell_type": "code",
   "execution_count": 199,
   "id": "engaging-hopkins",
   "metadata": {},
   "outputs": [],
   "source": [
    "colors = ['red', 'green', 'blue', 'magenta', 'grey']"
   ]
  },
  {
   "cell_type": "code",
   "execution_count": 200,
   "id": "convertible-bookmark",
   "metadata": {},
   "outputs": [
    {
     "name": "stdout",
     "output_type": "stream",
     "text": [
      "\u001b[31m{'.': [[332, 124]]}\u001b[0m\n",
      "\u001b[32m{'ح': [[331, 150], [336, 149], [354, 169], [318, 169]]}\u001b[0m\n",
      "\u001b[34m{'ا': [[321, 170], [315, 169], [308, 162], [303, 124]]}\u001b[0m\n",
      "\u001b[35m{'ل': [[286, 119], [286, 157], [282, 163], [268, 163]]}\u001b[0m\n",
      "\u001b[30m{'د': [[250, 144], [260, 156], [264, 172], [259, 176], [244, 176], [238, 171]]}\u001b[0m\n"
     ]
    }
   ],
   "source": [
    "for i, ins in enumerate(out):\n",
    "    print(colored(ins, colors[i]))"
   ]
  },
  {
   "cell_type": "code",
   "execution_count": 25,
   "id": "several-botswana",
   "metadata": {},
   "outputs": [],
   "source": [
    "from PIL import Image, ImageDraw\n",
    "import json\n",
    "import numpy as np\n",
    "\n",
    "def img_from_stroke(drawing):\n",
    "    img_A = Image.new('RGB', (600, 600), (255, 255, 255)) \n",
    "    draw = ImageDraw.Draw(img_A) \n",
    "    for j, item in enumerate(drawing):\n",
    "        char = list(item.keys())[0]\n",
    "        stroke = item[char]\n",
    "        if len(stroke) == 1:\n",
    "            x, y = stroke[0]\n",
    "            stroke.append([x+5, y+5])\n",
    "        for i, point in enumerate(stroke):\n",
    "            if i == 0:\n",
    "                x_prev, y_prev = point\n",
    "                continue\n",
    "            x, y = point \n",
    "            draw.line([x_prev, y_prev, x, y], fill=colors[j], width = 3)\n",
    "            x_prev, y_prev = x, y\n",
    "    return img_A"
   ]
  },
  {
   "cell_type": "code",
   "execution_count": 26,
   "id": "cordless-ticket",
   "metadata": {},
   "outputs": [
    {
     "data": {
      "image/png": "[encoded data removed]",
      "text/plain": [
       "<PIL.Image.Image image mode=RGB size=600x600 at 0x7F70B15B6DA0>"
      ]
     },
     "execution_count": 26,
     "metadata": {},
     "output_type": "execute_result"
    }
   ],
   "source": [
    "img_from_stroke(out)"
   ]
  },
  {
   "cell_type": "code",
   "execution_count": 31,
   "id": "specified-comedy",
   "metadata": {},
   "outputs": [],
   "source": [
    "import numpy as np\n",
    "import math, json\n",
    "from rdp import rdp\n",
    "import numpy as np\n",
    "import matplotlib.pyplot as plt\n",
    "from IPython.display import HTML\n",
    "import tqdm.notebook as tq\n",
    "import pickle\n",
    "from collections import defaultdict\n",
    "import cairosvg\n",
    "from PIL import Image,ImageDraw\n",
    "import glob\n",
    "import os \n",
    "import re\n",
    "import svgwrite"
   ]
  },
  {
   "cell_type": "code",
   "execution_count": 32,
   "id": "neither-pharmacy",
   "metadata": {},
   "outputs": [],
   "source": [
    "def convert_3d(drawing, return_flag = False, threshold=50):\n",
    "    out = []\n",
    "    corrupted = False\n",
    "    for item in drawing:\n",
    "        char = list(item.keys())[0]\n",
    "        stroke = item[char]\n",
    "        if len(stroke) == 1:\n",
    "            x, y = stroke[0]\n",
    "            out.append([x, y, 0])\n",
    "            out.append([x+5, y+5, 1])\n",
    "            continue\n",
    "        segment = []\n",
    "        for i, point in enumerate(stroke):\n",
    "            x, y = point \n",
    "            if i == len(stroke) - 1:\n",
    "                segment.append([x, y, 1])\n",
    "            else:\n",
    "                segment.append([x, y, 0])\n",
    "        \n",
    "        start = 0 \n",
    "        out += segment[start:]\n",
    "    if return_flag:\n",
    "        return out, corrupted\n",
    "    return out"
   ]
  },
  {
   "cell_type": "code",
   "execution_count": 190,
   "id": "severe-immigration",
   "metadata": {},
   "outputs": [],
   "source": [
    "def get_bounds(data):\n",
    "    minx, miny = 600, 600  \n",
    "    maxx, maxy = 0, 0\n",
    "    \n",
    "    for i, (x, y, z) in enumerate(data): \n",
    "        if minx > x:\n",
    "            minx = x\n",
    "        if miny > y:\n",
    "            miny = y \n",
    "\n",
    "        if maxx < x:\n",
    "            maxx = x\n",
    "        if maxy < y:\n",
    "            maxy = y \n",
    "    return minx, maxx, miny, maxy\n",
    "\n",
    "def draw_strokes(data, factor=1, svg_filename = 'tmp/sample.svg', stroke_width = 3, square = False, return_res = False):\n",
    "    min_x, max_x, min_y, max_y = get_bounds(data)\n",
    "    margin_x = (600 - max_x - min_x)/2\n",
    "    margin_y = (600 - max_y - min_y)/2\n",
    "    \n",
    "    data = [[x + margin_x, y + margin_y, z] for [x, y, z] in data]\n",
    "    \n",
    "    min_x, max_x, min_y, max_y = get_bounds(data)\n",
    "    dims = ( 5 + max_x - min_x,  5 +max_y - min_y)\n",
    "    dwg = svgwrite.Drawing(svg_filename, size = dims)\n",
    "    dwg.add(dwg.rect(insert=(0, 0), size=dims,fill='white'))\n",
    "    lift_pen = 0\n",
    "    abs_x = 25 - min_x \n",
    "    abs_y = 25 - min_y\n",
    "    p = \"M%s,%s \" % (min_x, min_y)\n",
    "    command = \"M\"\n",
    "    j = 0 \n",
    "    for i in range(0, len(data)):\n",
    "        x = float(data[i][0]) - min_x\n",
    "        y = float(data[i][1]) - min_y\n",
    "        lift_pen = data[i][2]\n",
    "        p += command+str(x)+\" \"+str(y)+\" \" \n",
    "        \n",
    "        if (lift_pen == 1):\n",
    "            command = \"M\"\n",
    "            dwg.add(dwg.path(p).stroke(colors[j],stroke_width).fill(\"none\"))\n",
    "            p = \"\"\n",
    "            j += 1\n",
    "        else:\n",
    "            command = \"\" \n",
    "    \n",
    "    dwg.save()\n",
    "    cairosvg.svg2png(url=\"tmp/sample.svg\", write_to=\"tmp/sample.png\")\n",
    "    img = Image.open('tmp/sample.png')\n",
    "    img = make_square(img)\n",
    "    return img"
   ]
  },
  {
   "cell_type": "code",
   "execution_count": 194,
   "id": "fresh-strategy",
   "metadata": {},
   "outputs": [],
   "source": [
    "import json \n",
    "file = 'dataset/train/'+'عمر_15.json'\n",
    "drawing = json.load(open(file, 'r'))"
   ]
  },
  {
   "cell_type": "code",
   "execution_count": 195,
   "id": "thick-portfolio",
   "metadata": {},
   "outputs": [
    {
     "data": {
      "image/png": "[encoded data removed]",
      "text/plain": [
       "<Figure size 432x288 with 1 Axes>"
      ]
     },
     "metadata": {},
     "output_type": "display_data"
    }
   ],
   "source": [
    "data = convert_3d(drawing)\n",
    "plt.imshow(draw_strokes(data, stroke_width = 5))\n",
    "plt.xticks([])\n",
    "plt.yticks([])\n",
    "plt.show()"
   ]
  },
  {
   "cell_type": "code",
   "execution_count": null,
   "id": "sweet-estate",
   "metadata": {},
   "outputs": [],
   "source": []
  }
 ],
 "metadata": {
  "kernelspec": {
   "display_name": "Python 3",
   "language": "python",
   "name": "python3"
  },
  "language_info": {
   "codemirror_mode": {
    "name": "ipython",
    "version": 3
   },
   "file_extension": ".py",
   "mimetype": "text/x-python",
   "name": "python",
   "nbconvert_exporter": "python",
   "pygments_lexer": "ipython3",
   "version": "3.6.9"
  }
 },
 "nbformat": 4,
 "nbformat_minor": 5
}
