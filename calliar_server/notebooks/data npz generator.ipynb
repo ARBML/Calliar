{
 "cells": [
  {
   "cell_type": "code",
   "execution_count": 6,
   "metadata": {},
   "outputs": [
    {
     "name": "stderr",
     "output_type": "stream",
     "text": [
      "In /home/esp1/.local/lib/python3.6/site-packages/matplotlib/mpl-data/stylelib/_classic_test.mplstyle: \n",
      "The text.latex.preview rcparam was deprecated in Matplotlib 3.3 and will be removed two minor releases later.\n",
      "In /home/esp1/.local/lib/python3.6/site-packages/matplotlib/mpl-data/stylelib/_classic_test.mplstyle: \n",
      "The mathtext.fallback_to_cm rcparam was deprecated in Matplotlib 3.3 and will be removed two minor releases later.\n",
      "In /home/esp1/.local/lib/python3.6/site-packages/matplotlib/mpl-data/stylelib/_classic_test.mplstyle: Support for setting the 'mathtext.fallback_to_cm' rcParam is deprecated since 3.3 and will be removed two minor releases later; use 'mathtext.fallback : 'cm' instead.\n",
      "In /home/esp1/.local/lib/python3.6/site-packages/matplotlib/mpl-data/stylelib/_classic_test.mplstyle: \n",
      "The validate_bool_maybe_none function was deprecated in Matplotlib 3.3 and will be removed two minor releases later.\n",
      "In /home/esp1/.local/lib/python3.6/site-packages/matplotlib/mpl-data/stylelib/_classic_test.mplstyle: \n",
      "The savefig.jpeg_quality rcparam was deprecated in Matplotlib 3.3 and will be removed two minor releases later.\n",
      "In /home/esp1/.local/lib/python3.6/site-packages/matplotlib/mpl-data/stylelib/_classic_test.mplstyle: \n",
      "The keymap.all_axes rcparam was deprecated in Matplotlib 3.3 and will be removed two minor releases later.\n",
      "In /home/esp1/.local/lib/python3.6/site-packages/matplotlib/mpl-data/stylelib/_classic_test.mplstyle: \n",
      "The animation.avconv_path rcparam was deprecated in Matplotlib 3.3 and will be removed two minor releases later.\n",
      "In /home/esp1/.local/lib/python3.6/site-packages/matplotlib/mpl-data/stylelib/_classic_test.mplstyle: \n",
      "The animation.avconv_args rcparam was deprecated in Matplotlib 3.3 and will be removed two minor releases later.\n"
     ]
    },
    {
     "ename": "ModuleNotFoundError",
     "evalue": "No module named 'rdb'",
     "output_type": "error",
     "traceback": [
      "\u001b[0;31m---------------------------------------------------------------------------\u001b[0m",
      "\u001b[0;31mModuleNotFoundError\u001b[0m                       Traceback (most recent call last)",
      "\u001b[0;32m<ipython-input-6-c9625b751940>\u001b[0m in \u001b[0;36m<module>\u001b[0;34m\u001b[0m\n\u001b[1;32m      8\u001b[0m \u001b[0;32mimport\u001b[0m \u001b[0mtqdm\u001b[0m\u001b[0;34m.\u001b[0m\u001b[0mnotebook\u001b[0m \u001b[0;32mas\u001b[0m \u001b[0mtq\u001b[0m\u001b[0;34m\u001b[0m\u001b[0;34m\u001b[0m\u001b[0m\n\u001b[1;32m      9\u001b[0m \u001b[0;32mimport\u001b[0m \u001b[0mpickle\u001b[0m\u001b[0;34m\u001b[0m\u001b[0;34m\u001b[0m\u001b[0m\n\u001b[0;32m---> 10\u001b[0;31m \u001b[0;32mimport\u001b[0m \u001b[0mrdb\u001b[0m\u001b[0;34m\u001b[0m\u001b[0;34m\u001b[0m\u001b[0m\n\u001b[0m",
      "\u001b[0;31mModuleNotFoundError\u001b[0m: No module named 'rdb'"
     ]
    }
   ],
   "source": [
    "import numpy as np\n",
    "import math, json\n",
    "from rdp import rdp\n",
    "import numpy as np\n",
    "import matplotlib.pyplot as plt\n",
    "from matplotlib import animation\n",
    "from IPython.display import HTML\n",
    "import tqdm.notebook as tq\n",
    "import pickle\n",
    "import rdb"
   ]
  },
  {
   "cell_type": "code",
   "execution_count": null,
   "metadata": {},
   "outputs": [],
   "source": [
    "from PIL import Image, ImageDraw\n",
    "import json\n",
    "import numpy as np\n",
    "\n",
    "def img_from_stroke(drawing):\n",
    "    img_A = Image.new('RGB', (600, 600), (255, 255, 255)) \n",
    "    draw = ImageDraw.Draw(img_A) \n",
    "    for item in drawing:\n",
    "        char = list(item.keys())[0]\n",
    "        stroke = item[char]\n",
    "        if len(stroke) == 1:\n",
    "            x, y = stroke[0]\n",
    "            stroke.append([x+5, y+5])\n",
    "        for i, point in enumerate(stroke):\n",
    "            if i == 0:\n",
    "                x_prev, y_prev = point\n",
    "                continue\n",
    "            x, y = point \n",
    "            draw.line([x_prev, y_prev, x, y], fill=(0, 0, 0), width = 3)\n",
    "            x_prev, y_prev = x, y\n",
    "    return img_A"
   ]
  },
  {
   "cell_type": "code",
   "execution_count": 7,
   "metadata": {},
   "outputs": [],
   "source": [
    "def apply_rdb(drawing, verbose = 0):\n",
    "    new_drawing = []\n",
    "    total_prev_strokes = 0\n",
    "    total_post_strokes = 0\n",
    "    for item in drawing:\n",
    "        char = list(item.keys())[0]\n",
    "        stroke = item[char]\n",
    "        processed_stroke = []\n",
    "        if len(stroke):\n",
    "            if verbose:\n",
    "                print('processing ', char)\n",
    "            post_stroke = rdp(stroke, epsilon = 2.0)\n",
    "            total_post_strokes += len(post_stroke)\n",
    "            total_prev_strokes += len(stroke)\n",
    "        new_drawing.append({char:post_stroke})\n",
    "    if verbose:\n",
    "        print('reduced from ', total_prev_strokes, ' to ', total_post_strokes)\n",
    "    return new_drawing"
   ]
  },
  {
   "cell_type": "code",
   "execution_count": 8,
   "metadata": {},
   "outputs": [],
   "source": [
    "import glob\n",
    "npy_files = glob.glob('dataset/**/*.json')"
   ]
  },
  {
   "cell_type": "code",
   "execution_count": 9,
   "metadata": {},
   "outputs": [
    {
     "data": {
      "image/png": "[encoded data removed]",
      "text/plain": [
       "<PIL.Image.Image image mode=RGB size=600x600 at 0x7FF414232EF0>"
      ]
     },
     "execution_count": 9,
     "metadata": {},
     "output_type": "execute_result"
    }
   ],
   "source": [
    "file = np.random.choice(npy_files)\n",
    "drawing = json.load(open(file))\n",
    "new_drawing = apply_rdb(drawing, verbose = 0)\n",
    "img_from_stroke(drawing)"
   ]
  },
  {
   "cell_type": "code",
   "execution_count": 12,
   "metadata": {},
   "outputs": [],
   "source": [
    "def add_z(drawing):\n",
    "    new_data = []\n",
    "    x_prev, y_prev = None, None\n",
    "    for item in drawing:\n",
    "        char = list(item.keys())[0]\n",
    "        if x_prev is None:\n",
    "            x_prev, y_prev = item[char][0]\n",
    "        stroke = item[char]\n",
    "        x_data = []\n",
    "        y_data = []\n",
    "        segments = []\n",
    "        \n",
    "        if len(stroke) == 1:\n",
    "            x, y = stroke[0]\n",
    "            stroke.append([x+1, y+1])\n",
    "            \n",
    "        for i, point in enumerate(stroke):\n",
    "            x, y = point\n",
    "            if i == len(stroke) - 1:\n",
    "                z = 1\n",
    "            else:\n",
    "                z = 0\n",
    "            if i >=0:\n",
    "                segments.append([x-x_prev, y-y_prev, z])\n",
    "            x_prev, y_prev = [x, y]\n",
    "        new_data += segments\n",
    "    return np.array(new_data)"
   ]
  },
  {
   "cell_type": "code",
   "execution_count": 15,
   "metadata": {},
   "outputs": [],
   "source": [
    "def create_dataset():\n",
    "    train_data = []\n",
    "    valid_data = []\n",
    "    test_data = []\n",
    "    count = 0 \n",
    "    valid_size = 100 \n",
    "    test_size = 100\n",
    "    pbar = tq.tqdm(total = 2500)\n",
    "    for file in glob.glob('dataset/**/*.json'):\n",
    "        drawing = json.load(open(file))\n",
    "        new_drawing = apply_rdb(drawing)\n",
    "        strokes = add_z(new_drawing)\n",
    "        \n",
    "        count += 1\n",
    "        pbar.update(1)\n",
    "        if 'train' in file:\n",
    "            train_data.append(strokes)\n",
    "        elif 'valid' in file:\n",
    "            valid_data.append(strokes)\n",
    "        elif 'test' in file:\n",
    "            test_data.append(strokes)\n",
    "        else:\n",
    "            pbar.close()\n",
    "            break\n",
    "  \n",
    "    print(\"save dataset\")\n",
    "    with open('dataset.npz', 'wb') as f:\n",
    "        pickle.dump({'train':train_data, 'valid':valid_data, 'test':test_data}, f, protocol=2)"
   ]
  },
  {
   "cell_type": "code",
   "execution_count": 16,
   "metadata": {},
   "outputs": [
    {
     "data": {
      "application/vnd.jupyter.widget-view+json": {
       "model_id": "5cc19408197a40028ee948c1a5c6ac32",
       "version_major": 2,
       "version_minor": 0
      },
      "text/plain": [
       "HBox(children=(IntProgress(value=0, max=2500), HTML(value='')))"
      ]
     },
     "metadata": {},
     "output_type": "display_data"
    },
    {
     "name": "stdout",
     "output_type": "stream",
     "text": [
      "save dataset\n"
     ]
    }
   ],
   "source": [
    "create_dataset()"
   ]
  },
  {
   "cell_type": "code",
   "execution_count": null,
   "metadata": {},
   "outputs": [],
   "source": []
  }
 ],
 "metadata": {
  "kernelspec": {
   "display_name": "Python 3",
   "language": "python",
   "name": "python3"
  },
  "language_info": {
   "codemirror_mode": {
    "name": "ipython",
    "version": 3
   },
   "file_extension": ".py",
   "mimetype": "text/x-python",
   "name": "python",
   "nbconvert_exporter": "python",
   "pygments_lexer": "ipython3",
   "version": "3.6.9"
  }
 },
 "nbformat": 4,
 "nbformat_minor": 2
}
