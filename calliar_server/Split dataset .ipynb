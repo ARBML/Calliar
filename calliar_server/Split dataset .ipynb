{
 "cells": [
  {
   "cell_type": "code",
   "execution_count": 1,
   "metadata": {},
   "outputs": [
    {
     "name": "stderr",
     "output_type": "stream",
     "text": [
      "In /home/esp1/.local/lib/python3.6/site-packages/matplotlib/mpl-data/stylelib/_classic_test.mplstyle: \n",
      "The text.latex.preview rcparam was deprecated in Matplotlib 3.3 and will be removed two minor releases later.\n",
      "In /home/esp1/.local/lib/python3.6/site-packages/matplotlib/mpl-data/stylelib/_classic_test.mplstyle: \n",
      "The mathtext.fallback_to_cm rcparam was deprecated in Matplotlib 3.3 and will be removed two minor releases later.\n",
      "In /home/esp1/.local/lib/python3.6/site-packages/matplotlib/mpl-data/stylelib/_classic_test.mplstyle: Support for setting the 'mathtext.fallback_to_cm' rcParam is deprecated since 3.3 and will be removed two minor releases later; use 'mathtext.fallback : 'cm' instead.\n",
      "In /home/esp1/.local/lib/python3.6/site-packages/matplotlib/mpl-data/stylelib/_classic_test.mplstyle: \n",
      "The validate_bool_maybe_none function was deprecated in Matplotlib 3.3 and will be removed two minor releases later.\n",
      "In /home/esp1/.local/lib/python3.6/site-packages/matplotlib/mpl-data/stylelib/_classic_test.mplstyle: \n",
      "The savefig.jpeg_quality rcparam was deprecated in Matplotlib 3.3 and will be removed two minor releases later.\n",
      "In /home/esp1/.local/lib/python3.6/site-packages/matplotlib/mpl-data/stylelib/_classic_test.mplstyle: \n",
      "The keymap.all_axes rcparam was deprecated in Matplotlib 3.3 and will be removed two minor releases later.\n",
      "In /home/esp1/.local/lib/python3.6/site-packages/matplotlib/mpl-data/stylelib/_classic_test.mplstyle: \n",
      "The animation.avconv_path rcparam was deprecated in Matplotlib 3.3 and will be removed two minor releases later.\n",
      "In /home/esp1/.local/lib/python3.6/site-packages/matplotlib/mpl-data/stylelib/_classic_test.mplstyle: \n",
      "The animation.avconv_args rcparam was deprecated in Matplotlib 3.3 and will be removed two minor releases later.\n"
     ]
    }
   ],
   "source": [
    "import numpy as np\n",
    "import math, json\n",
    "from rdp import rdp\n",
    "import numpy as np\n",
    "import matplotlib.pyplot as plt\n",
    "from matplotlib import animation\n",
    "from IPython.display import HTML\n",
    "import tqdm.notebook as tq\n",
    "import pickle\n",
    "from collections import defaultdict\n",
    "import cairosvg\n",
    "from PIL import Image,ImageDraw\n",
    "import glob\n",
    "import os \n",
    "import re\n",
    "import svgwrite"
   ]
  },
  {
   "cell_type": "code",
   "execution_count": 2,
   "metadata": {},
   "outputs": [],
   "source": [
    "def get_bounds(data):\n",
    "    minx, miny = 600, 600  \n",
    "    maxx, maxy = 0, 0\n",
    "    \n",
    "    for i, (x, y, z) in enumerate(data): \n",
    "        if minx > x:\n",
    "            minx = x\n",
    "        if miny > y:\n",
    "            miny = y \n",
    "\n",
    "        if maxx < x:\n",
    "            maxx = x\n",
    "        if maxy < y:\n",
    "            maxy = y \n",
    "    return minx, maxx, miny, maxy"
   ]
  },
  {
   "cell_type": "code",
   "execution_count": 3,
   "metadata": {},
   "outputs": [],
   "source": [
    "def convert_3d(drawing, return_flag = False, threshold=10):\n",
    "    out = []\n",
    "    corrupted = False\n",
    "    for item in drawing:\n",
    "        char = list(item.keys())[0]\n",
    "        stroke = item[char]\n",
    "        if len(stroke) == 1:\n",
    "            x, y = stroke[0]\n",
    "            out.append([x, y, 0])\n",
    "            out.append([x+5, y+5, 1])\n",
    "            continue\n",
    "        segment = []\n",
    "        for i, point in enumerate(stroke):\n",
    "            x, y = point \n",
    "            if i == len(stroke) - 1:\n",
    "                segment.append([x, y, 1])\n",
    "            else:\n",
    "                segment.append([x, y, 0])\n",
    "        \n",
    "        start = 0 \n",
    "        for i, point in enumerate(segment):\n",
    "            if i < len(segment) -1:\n",
    "                x, y, _ = point\n",
    "                next_x, next_y, _ = segment[i+1]\n",
    "                if any((\n",
    "                    abs(x-next_x)>threshold,\n",
    "                    abs(y-next_y>threshold),\n",
    "                )):\n",
    "                    corrupted=True\n",
    "                    start = i +1\n",
    "        \n",
    "        out += segment[start:]\n",
    "    if return_flag:\n",
    "        return out, corrupted\n",
    "    return out"
   ]
  },
  {
   "cell_type": "code",
   "execution_count": 4,
   "metadata": {},
   "outputs": [],
   "source": [
    "def make_square(im, min_size=256, fill_color=(255, 255, 255)):\n",
    "    x, y = im.size\n",
    "    size = max(min_size, x, y)\n",
    "    new_im = Image.new('RGBA', (size, size), fill_color)\n",
    "    new_im.paste(im, (int((size - x) / 2), int((size - y) / 2)))\n",
    "    return new_im"
   ]
  },
  {
   "cell_type": "code",
   "execution_count": 5,
   "metadata": {},
   "outputs": [],
   "source": [
    "def draw_strokes(data, factor=1, svg_filename = 'tmp/sample.svg', stroke_width = 3, square = False, return_res = False):\n",
    "    min_x, max_x, min_y, max_y = get_bounds(data)\n",
    "    dims = (50 + max_x - min_x, 50 + max_y - min_y)\n",
    "    dwg = svgwrite.Drawing(svg_filename, size = dims)\n",
    "    dwg.add(dwg.rect(insert=(0, 0), size=dims,fill='white'))\n",
    "    lift_pen = 1\n",
    "    abs_x = 25 - min_x \n",
    "    abs_y = 25 - min_y\n",
    "    p = \"M%s,%s \" % (abs_x, abs_y)\n",
    "    command = \"M\"\n",
    "    for i in range(len(data)):\n",
    "        if (lift_pen == 1):\n",
    "            command = \"M\"\n",
    "        elif (command != \"L\"):\n",
    "            command = \"L\"\n",
    "        else:\n",
    "            command = \"\"\n",
    "        x = float(data[i][0]) - min_x\n",
    "        y = float(data[i][1]) - min_y\n",
    "        lift_pen = data[i][2]\n",
    "        p += command+str(x)+\" \"+str(y)+\" \"\n",
    "    the_color = \"black\"\n",
    "    \n",
    "    dwg.add(dwg.path(p).stroke(the_color,stroke_width).fill(\"none\"))\n",
    "    dwg.save()\n",
    "    cairosvg.svg2png(url=\"tmp/sample.svg\", write_to=\"tmp/sample.png\")\n",
    "    img = Image.open('tmp/sample.png')\n",
    "    if square:\n",
    "        img = make_square(img)\n",
    "    if return_res:\n",
    "        return img, dims \n",
    "    else:\n",
    "        return img"
   ]
  },
  {
   "cell_type": "code",
   "execution_count": 11,
   "metadata": {},
   "outputs": [],
   "source": [
    "npy_files = glob.glob('server/data/*')\n",
    "file = np.random.choice(npy_files)"
   ]
  },
  {
   "cell_type": "code",
   "execution_count": 43,
   "metadata": {},
   "outputs": [
    {
     "data": {
      "text/plain": [
       "False"
      ]
     },
     "execution_count": 43,
     "metadata": {},
     "output_type": "execute_result"
    }
   ],
   "source": [
    "target_file_name + '_'+ ctr +'.json' in [f.split('/')[-1] for f in glob.glob('dataset/**/**.json')]"
   ]
  },
  {
   "cell_type": "code",
   "execution_count": null,
   "metadata": {},
   "outputs": [],
   "source": [
    "files = glob.glob('server/data/*') + glob.glob('server/larger_data/*')\n",
    "shuffle(files)"
   ]
  },
  {
   "cell_type": "code",
   "execution_count": 113,
   "metadata": {},
   "outputs": [],
   "source": [
    "!rm -r dataset"
   ]
  },
  {
   "cell_type": "code",
   "execution_count": 114,
   "metadata": {},
   "outputs": [],
   "source": [
    "def preprocess(text):\n",
    "    char_comps = []\n",
    "    \n",
    "    diacritics = \"[ًٌٍَُِّْ]\"\n",
    "    numbers = '0123456789'\n",
    "    for diac in diacritics: \n",
    "        text = text.replace(diac, '')\n",
    "\n",
    "    text = re.sub('[0-9]', '', text)\n",
    "    text = re.sub('[a-zA-Zö\\xa0]', '', text)\n",
    "    return text.replace('_', '')"
   ]
  },
  {
   "cell_type": "code",
   "execution_count": 115,
   "metadata": {},
   "outputs": [],
   "source": [
    "import shutil \n",
    "import glob \n",
    "from random import  shuffle\n",
    "os.makedirs('dataset', exist_ok = True)\n",
    "os.makedirs('dataset/train', exist_ok = True)\n",
    "os.makedirs('dataset/valid', exist_ok = True)\n",
    "os.makedirs('dataset/test', exist_ok = True)\n",
    "\n",
    "for i, file in enumerate(files):\n",
    "    file_name = file.split('/')[-1][:-5]\n",
    "    \n",
    "    target_file_name = preprocess(file_name) \n",
    "    ctr = str(0)\n",
    "        \n",
    "    while target_file_name + '_'+ ctr +'.json' in [f.split('/')[-1] for f in glob.glob('dataset/**/**.json')]:\n",
    "        ctr = str(int(ctr) + 1) \n",
    "\n",
    "    target_file_name = target_file_name + '_'+ ctr \n",
    "\n",
    "    if i < 2000:\n",
    "        shutil.copyfile(file, f'dataset/train/{target_file_name}.json')\n",
    "    elif i < 2250:\n",
    "        shutil.copyfile(file, f'dataset/valid/{target_file_name}.json')\n",
    "    elif i < 2500:\n",
    "        shutil.copyfile(file, f'dataset/test/{target_file_name}.json')\n",
    "    else:\n",
    "        break "
   ]
  },
  {
   "cell_type": "code",
   "execution_count": 116,
   "metadata": {},
   "outputs": [
    {
     "data": {
      "text/plain": [
       "2500"
      ]
     },
     "execution_count": 116,
     "metadata": {},
     "output_type": "execute_result"
    }
   ],
   "source": [
    "len(glob.glob('dataset/**/**.json'))"
   ]
  },
  {
   "cell_type": "code",
   "execution_count": 117,
   "metadata": {},
   "outputs": [
    {
     "data": {
      "text/plain": [
       "'server/data/Benyaagoub_بن يعقوب.json'"
      ]
     },
     "execution_count": 117,
     "metadata": {},
     "output_type": "execute_result"
    }
   ],
   "source": [
    "file"
   ]
  },
  {
   "cell_type": "code",
   "execution_count": 118,
   "metadata": {},
   "outputs": [
    {
     "name": "stdout",
     "output_type": "stream",
     "text": [
      "زنيرة\n"
     ]
    },
    {
     "data": {
      "image/png": "[encoded data removed]",
      "text/plain": [
       "<Figure size 432x288 with 1 Axes>"
      ]
     },
     "metadata": {
      "needs_background": "light"
     },
     "output_type": "display_data"
    }
   ],
   "source": [
    "file = np.random.choice(glob.glob('dataset/**/**.json'))\n",
    "print(file.split('_')[0].split('/')[-1])\n",
    "drawing = json.load(open(file))\n",
    "data1, flag = convert_3d(drawing, return_flag=True, threshold=50)\n",
    "plt.imshow(draw_strokes(data1, stroke_width = 5))\n",
    "plt.show()"
   ]
  },
  {
   "cell_type": "code",
   "execution_count": 119,
   "metadata": {},
   "outputs": [],
   "source": [
    "#https:#jrgraphix.net/r/Unicode/0600-06FF\n",
    "map_chars = {\n",
    "    \"\\u0623\":[\"\\u0621\", \"\\u0627\"], # أ\n",
    "    \"\\u0622\":[\"\\u0605\", \"\\u0627\"], # آ\n",
    "    \"\\u0625\":[\"\\u0627\", \"\\u0621\"], # إ\n",
    "    \"\\u0628\":[\"\\u066E\", \".\"], # ب\n",
    "    \"\\u062A\":[\".\", \".\", \"\\u066E\"], # ت\n",
    "    \"\\u062B\":[\".\", \".\", \".\", \"\\u066E\"], # ث \n",
    "    \"\\u062C\":[\"\\u062D\", \".\"], # ج\n",
    "    \"\\u062E\":[\".\", \"\\u062D\"], # خ\n",
    "    \"\\u0630\":[\".\", \"\\u062F\"], # ذ\n",
    "    \"\\u0632\":[\".\", \"\\u0631\"], # ز\n",
    "    \"\\u0634\":[\".\", \".\", \".\", \"\\u0633\"], # ش\n",
    "    \"\\u0636\":[\".\", \"\\u0635\"], # ض\n",
    "    \"\\u0637\":[\"\\u0627\", \"\\uFEBB\"], # ط\n",
    "    \"\\u0638\":[\".\", \"\\u0627\", \"\\uFEBB\"], # ظ\n",
    "    \"\\u063A\":[\".\", \"\\u0639\"], # غ\n",
    "    \"\\u0641\":[\".\", \"\\u066F\"], # ف\n",
    "    \"\\u0642\":[\".\", \".\", \"\\u066F\"], # ق\n",
    "    \"\\u06A4\":[\".\", \".\", \".\", \"\\u066F\"], # ڤ\n",
    "    \"\\u0643\":[\"\\u0621\", \"\\u0644\"], # ك\n",
    "    \"\\u0646\":[\".\", \"\\u06BA\"], # ن\n",
    "    \"\\u0624\":[\"\\u0621\", \"\\u0648\"], # ؤ\n",
    "    \"\\u064A\":[\"\\u0649\", \".\", \".\"], #ي\n",
    "    \"\\u0626\":[\"\\u0621\", \"\\u0649\"], #ئ\n",
    "    \"\\u0629\":[\".\", \".\", \"\\u0647\"], #ه\n",
    "}"
   ]
  },
  {
   "cell_type": "code",
   "execution_count": 120,
   "metadata": {},
   "outputs": [
    {
     "data": {
      "text/plain": [
       "'زنيرة'"
      ]
     },
     "execution_count": 120,
     "metadata": {},
     "output_type": "execute_result"
    }
   ],
   "source": [
    "file.split('_')[0].split('/')[-1]"
   ]
  },
  {
   "cell_type": "code",
   "execution_count": 121,
   "metadata": {},
   "outputs": [
    {
     "name": "stdout",
     "output_type": "stream",
     "text": [
      "train\n",
      "number of words  6065\n",
      "number of characters  24722\n",
      "number of strokes  36561\n",
      "number of sentences 2000\n",
      "valid\n",
      "number of words  738\n",
      "number of characters  2946\n",
      "number of strokes  4410\n",
      "number of sentences 250\n",
      "test\n",
      "number of words  753\n",
      "number of characters  3052\n",
      "number of strokes  4601\n",
      "number of sentences 250\n"
     ]
    }
   ],
   "source": [
    "from collections import Counter \n",
    "char_counts = Counter()\n",
    "\n",
    "for split in ['train', 'valid', 'test']:\n",
    "    num_chars = 0 \n",
    "    num_words = 0 \n",
    "    num_strks = 0 \n",
    "    num_sents = 0 \n",
    "    for file in glob.glob(f'dataset/{split}/**.json'):\n",
    "        text = file.split('_')[0].split('/')[-1]\n",
    "        for char in text:\n",
    "            if char == ' ':\n",
    "                continue\n",
    "            char_counts[char] += 1\n",
    "            if char in map_chars:\n",
    "                num_strks += len(map_chars[char])\n",
    "            else:\n",
    "                num_strks += 1\n",
    "\n",
    "        num_chars += len(text.replace(' ', ''))\n",
    "        num_words += len(text.split(' '))\n",
    "        num_sents += 1\n",
    "    \n",
    "    print(split)\n",
    "    print('number of words ', num_words)\n",
    "    print('number of characters ', num_chars)\n",
    "    print('number of strokes ', num_strks)\n",
    "    print('number of sentences', num_sents)"
   ]
  },
  {
   "cell_type": "code",
   "execution_count": 122,
   "metadata": {},
   "outputs": [
    {
     "data": {
      "text/plain": [
       "Counter({'أ': 426,\n",
       "         'ح': 944,\n",
       "         'م': 2436,\n",
       "         'د': 875,\n",
       "         'ي': 2089,\n",
       "         'س': 758,\n",
       "         'ر': 1704,\n",
       "         'ى': 272,\n",
       "         'ف': 609,\n",
       "         'ا': 4530,\n",
       "         'ئ': 56,\n",
       "         'ز': 199,\n",
       "         'ل': 4382,\n",
       "         'ه': 1332,\n",
       "         'ص': 182,\n",
       "         'خ': 245,\n",
       "         'ش': 236,\n",
       "         'ء': 128,\n",
       "         'ذ': 190,\n",
       "         'ك': 832,\n",
       "         'و': 1626,\n",
       "         'ن': 1879,\n",
       "         'ق': 504,\n",
       "         'ة': 344,\n",
       "         'ب': 1137,\n",
       "         'ع': 1006,\n",
       "         'ظ': 62,\n",
       "         'ؤ': 31,\n",
       "         'آ': 58,\n",
       "         'إ': 242,\n",
       "         'ج': 292,\n",
       "         'غ': 95,\n",
       "         'ت': 682,\n",
       "         'ض': 131,\n",
       "         'ط': 129,\n",
       "         'ث': 72,\n",
       "         'ڤ': 5})"
      ]
     },
     "execution_count": 122,
     "metadata": {},
     "output_type": "execute_result"
    }
   ],
   "source": [
    "char_counts"
   ]
  },
  {
   "cell_type": "code",
   "execution_count": 139,
   "metadata": {},
   "outputs": [],
   "source": [
    "import pandas as pd\n",
    "df = pd.DataFrame(char_counts.items(), columns=['Char', 'Count'])"
   ]
  },
  {
   "cell_type": "code",
   "execution_count": 155,
   "metadata": {},
   "outputs": [
    {
     "data": {
      "image/png": "[encoded data removed]",
      "text/plain": [
       "<Figure size 864x216 with 1 Axes>"
      ]
     },
     "metadata": {},
     "output_type": "display_data"
    }
   ],
   "source": [
    "import seaborn as sns\n",
    "import matplotlib.pyplot as plt\n",
    "plt.figure(figsize=(12, 3))\n",
    "ax = sns.barplot(y = 'Count', x ='Char', data = df)"
   ]
  },
  {
   "cell_type": "code",
   "execution_count": 73,
   "metadata": {},
   "outputs": [],
   "source": [
    "def preprocess(text):\n",
    "    char_comps = []\n",
    "    \n",
    "    diacritics = \"[ًٌٍَُِّْ]\"\n",
    "    numbers = '0123456789'\n",
    "    for diac in diacritics: \n",
    "        text = text.replace(diac, '')\n",
    "\n",
    "    for num in numbers: \n",
    "        text = text.replace(num, '')\n",
    "    \n",
    "    outText = \"\"\n",
    "    \n",
    "    for i in range(len(text)):\n",
    "    \n",
    "        if (text[i] == \" \"):\n",
    "            continue\n",
    "    \n",
    "        if text[i] in map_chars:\n",
    "            if (i < len(text) - 1 and text[i] == \"\\u0643\"):\n",
    "                if text[i+1] != ' ':\n",
    "                    char_comps.append({text[i] : '\\uFEDB'})\n",
    "                    outText += '\\uFEDB'\n",
    "                else:\n",
    "                    char_comps.append({text[i] : map_chars[text[i]]})\n",
    "                    outText += ''.join(map_chars[text[i]])\n",
    "            else:\n",
    "                char_comps.append({text[i] : map_chars[text[i]]})\n",
    "                outText += ''.join(map_chars[text[i]])\n",
    "        else:\n",
    "                char_comps.append({text[i] : text[i]})\n",
    "                outText += text[i]\n",
    "\n",
    "    return char_comps, outText"
   ]
  },
  {
   "cell_type": "code",
   "execution_count": 42,
   "metadata": {},
   "outputs": [],
   "source": [
    "def concatenate(images, mode='h', margin=10):\n",
    "    widths, heights = zip(*(i.size for i in images))\n",
    "    if mode =='h':\n",
    "        total_width = sum(widths)\n",
    "        max_height = max(heights)\n",
    "\n",
    "        new_im = Image.new('RGB', (total_width, max_height), (255, 255, 255))\n",
    "\n",
    "        x_offset = 0\n",
    "        for im in images[::-1]:\n",
    "            new_im.paste(im, (x_offset,0))\n",
    "            x_offset += im.size[0]\n",
    "    elif mode == 'v':    \n",
    "        total_height = sum(heights)\n",
    "        max_width = max(widths)\n",
    "\n",
    "        new_im = Image.new('RGB', (max_width, total_height+margin*(len(images)-1)), (255, 255, 255))\n",
    "        draw = ImageDraw.Draw(new_im)\n",
    "        y_offset = 0\n",
    "        for im in images:\n",
    "            new_im.paste(im, (0,y_offset+margin))\n",
    "            y_offset += im.size[1]\n",
    "            draw.line((0,y_offset+margin-5, max_width,y_offset+margin-5), fill=(0, 0, 0), width=3)\n",
    "    return new_im"
   ]
  },
  {
   "cell_type": "code",
   "execution_count": 43,
   "metadata": {},
   "outputs": [],
   "source": [
    "def generate_characters(file):\n",
    "    char_drawings = []\n",
    "    annot = file.split('/')[-1][:-5]\n",
    "    char_comps = preprocess(annot)\n",
    "    drawing = json.load(open(file))\n",
    "    new_drawing = apply_rdb(drawing, verbose = 0)\n",
    "    i = 0 \n",
    "    for comp in char_comps:\n",
    "        char = list(comp.keys())[0]\n",
    "        j = i + len(comp[char])\n",
    "        char_drawings.append({char:new_drawing[i:j]})\n",
    "        i = j \n",
    "    return char_drawings"
   ]
  },
  {
   "cell_type": "code",
   "execution_count": 53,
   "metadata": {},
   "outputs": [],
   "source": [
    "import glob\n",
    "npy_files = glob.glob('server/larger_data/*')\n",
    "file = np.random.choice(npy_files)"
   ]
  },
  {
   "cell_type": "code",
   "execution_count": 57,
   "metadata": {},
   "outputs": [
    {
     "data": {
      "text/plain": [
       "1800"
      ]
     },
     "execution_count": 57,
     "metadata": {},
     "output_type": "execute_result"
    }
   ],
   "source": [
    "len(glob.glob('server/larger_data/*'))"
   ]
  },
  {
   "cell_type": "code",
   "execution_count": 91,
   "metadata": {},
   "outputs": [],
   "source": [
    "wrong_annotations = []\n",
    "for file in glob.glob('server/data/*'):\n",
    "    drawing = json.load(open(file))\n",
    "    stroke_chars = ''\n",
    "    _, original_stroke_chars = preprocess(file.split(\"/\")[-1][:-5].split('_')[-1])\n",
    "    for comp in drawing:\n",
    "        stroke_chars += list(comp.keys())[0]\n",
    "    if stroke_chars != original_stroke_chars:\n",
    "        print(file)\n",
    "        print(stroke_chars)\n",
    "        print(original_stroke_chars)\n",
    "        wrong_annotations.append(file)\n",
    "        data1, flag = convert_3d(drawing, return_flag=True, threshold=50)\n",
    "        plt.imshow(draw_strokes(data1, stroke_width = 5))\n",
    "        plt.show()"
   ]
  },
  {
   "cell_type": "code",
   "execution_count": 95,
   "metadata": {},
   "outputs": [
    {
     "data": {
      "text/plain": [
       "2417"
      ]
     },
     "execution_count": 95,
     "metadata": {},
     "output_type": "execute_result"
    }
   ],
   "source": [
    "len(glob.glob('server/larger_data/*') + glob.glob('server/data/*'))"
   ]
  },
  {
   "cell_type": "code",
   "execution_count": 117,
   "metadata": {},
   "outputs": [
    {
     "data": {
      "text/plain": [
       "2500"
      ]
     },
     "execution_count": 117,
     "metadata": {},
     "output_type": "execute_result"
    }
   ],
   "source": [
    "len(glob.glob('server/static/processed_larger_images/*') + glob.glob('server/static/images/*'))"
   ]
  },
  {
   "cell_type": "code",
   "execution_count": 118,
   "metadata": {},
   "outputs": [],
   "source": [
    "wrong_annotations = []\n",
    "for file in glob.glob('server/larger_data/*'):\n",
    "    drawing = json.load(open(file))\n",
    "    stroke_chars = ''\n",
    "    _, original_stroke_chars = preprocess(file.split(\"/\")[-1][:-5])\n",
    "    for comp in drawing:\n",
    "        stroke_chars += list(comp.keys())[0]\n",
    "    if stroke_chars != original_stroke_chars:\n",
    "        print(file)\n",
    "        print(stroke_chars)\n",
    "        print(original_stroke_chars)\n",
    "        wrong_annotations.append(file)\n",
    "        data1, flag = convert_3d(drawing, return_flag=True, threshold=50)\n",
    "        plt.imshow(draw_strokes(data1, stroke_width = 5))\n",
    "        plt.show()"
   ]
  },
  {
   "cell_type": "code",
   "execution_count": 119,
   "metadata": {},
   "outputs": [
    {
     "data": {
      "text/plain": [
       "[]"
      ]
     },
     "execution_count": 119,
     "metadata": {},
     "output_type": "execute_result"
    }
   ],
   "source": [
    "wrong_annotations"
   ]
  },
  {
   "cell_type": "code",
   "execution_count": 71,
   "metadata": {},
   "outputs": [],
   "source": [
    "import os\n",
    "import shutil\n",
    "\n",
    "for file in wrong_annotations:\n",
    "    file_name = file.split('/')[-1][:-5]\n",
    "    os.remove(file)  \n",
    "    shutil.move(f'server/static/processed_larger_images/{file_name}.jpg', f'server/static/larger_images/{file_name}.jpg')"
   ]
  },
  {
   "cell_type": "code",
   "execution_count": 90,
   "metadata": {},
   "outputs": [],
   "source": [
    "import os\n",
    "import shutil\n",
    "\n",
    "for file in wrong_annotations:\n",
    "    file_name = file.split(\"/\")[-1][:-5]\n",
    "    new_image_name = file.split(\"/\")[-1][:-5].split('_')[-1]\n",
    "    try:\n",
    "        os.remove(file)  \n",
    "        shutil.move(f'server/static/images/{file_name}.jpg', f'server/static/larger_images/{new_image_name}.jpg')\n",
    "    except:\n",
    "        continue"
   ]
  },
  {
   "cell_type": "code",
   "execution_count": 109,
   "metadata": {
    "scrolled": true
   },
   "outputs": [
    {
     "name": "stdout",
     "output_type": "stream",
     "text": [
      "1818\r\n"
     ]
    }
   ],
   "source": [
    "!ls server/larger_data/ | wc -l"
   ]
  },
  {
   "cell_type": "code",
   "execution_count": null,
   "metadata": {},
   "outputs": [],
   "source": []
  }
 ],
 "metadata": {
  "kernelspec": {
   "display_name": "Python 3",
   "language": "python",
   "name": "python3"
  },
  "language_info": {
   "codemirror_mode": {
    "name": "ipython",
    "version": 3
   },
   "file_extension": ".py",
   "mimetype": "text/x-python",
   "name": "python",
   "nbconvert_exporter": "python",
   "pygments_lexer": "ipython3",
   "version": "3.6.9"
  }
 },
 "nbformat": 4,
 "nbformat_minor": 2
}
