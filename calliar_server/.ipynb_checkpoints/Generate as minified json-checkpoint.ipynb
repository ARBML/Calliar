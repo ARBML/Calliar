{
 "cells": [
  {
   "cell_type": "code",
   "execution_count": 1,
   "id": "alternative-quality",
   "metadata": {},
   "outputs": [
    {
     "name": "stdout",
     "output_type": "stream",
     "text": [
      "test  train  valid\r\n"
     ]
    }
   ],
   "source": [
    "!ls dataset"
   ]
  },
  {
   "cell_type": "code",
   "execution_count": 5,
   "id": "tested-boxing",
   "metadata": {},
   "outputs": [],
   "source": [
    "import json \n",
    "import glob"
   ]
  },
  {
   "cell_type": "code",
   "execution_count": 6,
   "id": "sacred-closing",
   "metadata": {},
   "outputs": [
    {
     "name": "stdout",
     "output_type": "stream",
     "text": [
      "2000\n"
     ]
    }
   ],
   "source": [
    "json_files = glob.glob('dataset/train/**.json')\n",
    "print(len(json_files))"
   ]
  },
  {
   "cell_type": "code",
   "execution_count": 23,
   "id": "listed-wilson",
   "metadata": {},
   "outputs": [],
   "source": [
    "out = \"\"\n",
    "threshold = 20 \n",
    "\n",
    "for i in range(100):\n",
    "    file = json_files[i]\n",
    "    drawing = json.load(open(file))\n",
    "    drawing_name = f\"stroke_{i}\"\n",
    "    curr_drawing = \"[\"\n",
    "    for d, item in enumerate(drawing):\n",
    "        char = list(item.keys())[0]\n",
    "        stroke = item[char]\n",
    "        new_stroke = \"\"\n",
    "        start = 0 \n",
    "        for i, point in enumerate(stroke):\n",
    "            if i < len(segment) -1:\n",
    "                x, y, _ = point\n",
    "                next_x, next_y, _ = segment[i+1]\n",
    "                if any((\n",
    "                    abs(x-next_x)>threshold,\n",
    "                    abs(y-next_y>threshold),\n",
    "                )):\n",
    "                    corrupted=True\n",
    "                    start = i +1\n",
    "        \n",
    "        out += segment[start:]\n",
    "        for j, (x, y) in enumerate(out):\n",
    "            new_stroke += f\"[{int(x)}, {int(y)}]\"\n",
    "            if j != len(stroke) - 1:\n",
    "                new_stroke += \",\"\n",
    "        curr_drawing += f\"[{new_stroke}]\"\n",
    "        if d != len(drawing) - 1:\n",
    "                curr_drawing += \",\"\n",
    "    \n",
    "    out += f\"{drawing_name} = {curr_drawing}] \\n\""
   ]
  },
  {
   "cell_type": "code",
   "execution_count": 24,
   "id": "guided-thread",
   "metadata": {},
   "outputs": [
    {
     "data": {
      "text/plain": [
       "16979703"
      ]
     },
     "execution_count": 24,
     "metadata": {},
     "output_type": "execute_result"
    }
   ],
   "source": [
    "open(\"new_js.js\", 'w').write(out)"
   ]
  },
  {
   "cell_type": "code",
   "execution_count": null,
   "id": "challenging-milan",
   "metadata": {},
   "outputs": [],
   "source": []
  }
 ],
 "metadata": {
  "kernelspec": {
   "display_name": "Python 3",
   "language": "python",
   "name": "python3"
  },
  "language_info": {
   "codemirror_mode": {
    "name": "ipython",
    "version": 3
   },
   "file_extension": ".py",
   "mimetype": "text/x-python",
   "name": "python",
   "nbconvert_exporter": "python",
   "pygments_lexer": "ipython3",
   "version": "3.6.9"
  }
 },
 "nbformat": 4,
 "nbformat_minor": 5
}
