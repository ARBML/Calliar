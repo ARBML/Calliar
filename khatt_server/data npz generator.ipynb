{
 "cells": [
  {
   "cell_type": "code",
   "execution_count": 1,
   "metadata": {},
   "outputs": [],
   "source": [
    "import numpy as np\n",
    "import math, json\n",
    "from rdp import rdp\n",
    "import numpy as np\n",
    "import matplotlib.pyplot as plt\n",
    "from matplotlib import animation\n",
    "from IPython.display import HTML\n",
    "import tqdm.notebook as tq\n",
    "import pickle"
   ]
  },
  {
   "cell_type": "code",
   "execution_count": 2,
   "metadata": {},
   "outputs": [],
   "source": [
    "import glob\n",
    "npy_files = glob.glob('server/data/*')"
   ]
  },
  {
   "cell_type": "code",
   "execution_count": 3,
   "metadata": {},
   "outputs": [],
   "source": [
    "from PIL import Image, ImageDraw\n",
    "import json\n",
    "import numpy as np\n",
    "\n",
    "def img_from_stroke(drawing):\n",
    "    img_A = Image.new('RGB', (500, 500), (255, 255, 255)) \n",
    "    draw = ImageDraw.Draw(img_A) \n",
    "    for item in drawing:\n",
    "        char = list(item.keys())[0]\n",
    "        stroke = item[char]\n",
    "        if len(stroke) == 1:\n",
    "            x, y = stroke[0]\n",
    "            stroke.append([x+5, y+5])\n",
    "        for i, point in enumerate(stroke):\n",
    "            if i == 0:\n",
    "                x_prev, y_prev = point\n",
    "                continue\n",
    "            x, y = point \n",
    "            draw.line([x_prev, y_prev, x, y], fill=(0, 0, 0), width = 3)\n",
    "            x_prev, y_prev = x, y\n",
    "    return img_A"
   ]
  },
  {
   "cell_type": "code",
   "execution_count": 8,
   "metadata": {},
   "outputs": [],
   "source": [
    "def apply_rdb(drawing, verbose = 0):\n",
    "    new_drawing = []\n",
    "    total_prev_strokes = 0\n",
    "    total_post_strokes = 0\n",
    "    for item in drawing:\n",
    "        char = list(item.keys())[0]\n",
    "        stroke = item[char]\n",
    "        processed_stroke = []\n",
    "        if len(stroke):\n",
    "            if verbose:\n",
    "                print('processing ', char)\n",
    "            post_stroke = rdp(stroke, epsilon = 2.0)\n",
    "            total_post_strokes += len(post_stroke)\n",
    "            total_prev_strokes += len(stroke)\n",
    "        new_drawing.append({char:post_stroke})\n",
    "    if verbose:\n",
    "        print('reduced from ', total_prev_strokes, ' to ', total_post_strokes)\n",
    "    return new_drawing"
   ]
  },
  {
   "cell_type": "code",
   "execution_count": 15,
   "metadata": {},
   "outputs": [
    {
     "data": {
      "text/plain": [
       "'server/data/Almugherah_المغيرة.json'"
      ]
     },
     "execution_count": 15,
     "metadata": {},
     "output_type": "execute_result"
    }
   ],
   "source": [
    "file"
   ]
  },
  {
   "cell_type": "code",
   "execution_count": 16,
   "metadata": {},
   "outputs": [],
   "source": [
    "file = np.random.choice(npy_files)\n",
    "drawing = json.load(open('server/data/Baraa_براء.json'))"
   ]
  },
  {
   "cell_type": "code",
   "execution_count": 17,
   "metadata": {},
   "outputs": [],
   "source": [
    "new_drawing = apply_rdb(drawing)"
   ]
  },
  {
   "cell_type": "code",
   "execution_count": 18,
   "metadata": {},
   "outputs": [
    {
     "data": {
      "image/png": "[encoded data removed]",
      "text/plain": [
       "<PIL.Image.Image image mode=RGB size=500x500 at 0x7F3AD25EF438>"
      ]
     },
     "execution_count": 18,
     "metadata": {},
     "output_type": "execute_result"
    }
   ],
   "source": [
    "img_from_stroke(new_drawing)"
   ]
  },
  {
   "cell_type": "code",
   "execution_count": 12,
   "metadata": {},
   "outputs": [],
   "source": [
    "def add_z(drawing):\n",
    "    new_data = []\n",
    "    x_prev, y_prev = None, None\n",
    "    for item in drawing:\n",
    "        char = list(item.keys())[0]\n",
    "        if x_prev is None:\n",
    "            x_prev, y_prev = item[char][0]\n",
    "        stroke = item[char]\n",
    "        x_data = []\n",
    "        y_data = []\n",
    "        segments = []\n",
    "        \n",
    "        if len(stroke) == 1:\n",
    "            x, y = stroke[0]\n",
    "            stroke.append([x+5, y+5])\n",
    "            \n",
    "        for i, point in enumerate(stroke):\n",
    "            x, y = point\n",
    "            if i == len(stroke) - 1:\n",
    "                z = 1\n",
    "            else:\n",
    "                z = 0\n",
    "            if i >=0:\n",
    "                segments.append([x-x_prev, y-y_prev, z])\n",
    "            x_prev, y_prev = [x, y]\n",
    "        new_data += segments\n",
    "    return np.array(new_data)"
   ]
  },
  {
   "cell_type": "code",
   "execution_count": 13,
   "metadata": {},
   "outputs": [],
   "source": [
    "def create_dataset(train_size = 400):\n",
    "    train_data = []\n",
    "    valid_data = []\n",
    "    test_data = []\n",
    "    count = 0 \n",
    "    valid_size = 100 \n",
    "    test_size = 100\n",
    "    pbar = tq.tqdm(total = train_size+valid_size+test_size)\n",
    "    for file in glob.glob('server/data/*'):\n",
    "        print(file)\n",
    "        drawing = json.load(open(file))\n",
    "        new_drawing = apply_rdb(drawing)\n",
    "        strokes = add_z(new_drawing)\n",
    "        \n",
    "        if strokes.shape[0] > 250:\n",
    "            continue\n",
    "        count += 1\n",
    "        pbar.update(1)\n",
    "        if count < train_size:\n",
    "            train_data.append(strokes)\n",
    "        elif count < valid_size + train_size:\n",
    "            valid_data.append(strokes)\n",
    "        elif count < test_size + valid_size + train_size:\n",
    "            test_data.append(strokes)\n",
    "        else:\n",
    "            pbar.close()\n",
    "            break\n",
    "  \n",
    "    print(\"save dataset\")\n",
    "    with open('khatt_dots.npz', 'wb') as f:\n",
    "        pickle.dump({'train':train_data, 'valid':valid_data, 'test':test_data}, f, protocol=2)"
   ]
  },
  {
   "cell_type": "code",
   "execution_count": 14,
   "metadata": {},
   "outputs": [
    {
     "data": {
      "application/vnd.jupyter.widget-view+json": {
       "model_id": "0dc437494bff4e538839a9802729036c",
       "version_major": 2,
       "version_minor": 0
      },
      "text/plain": [
       "HBox(children=(IntProgress(value=0, max=600), HTML(value='')))"
      ]
     },
     "metadata": {},
     "output_type": "display_data"
    },
    {
     "name": "stdout",
     "output_type": "stream",
     "text": [
      "\n",
      "save dataset\n"
     ]
    }
   ],
   "source": [
    "create_dataset()"
   ]
  },
  {
   "cell_type": "code",
   "execution_count": null,
   "metadata": {},
   "outputs": [],
   "source": []
  }
 ],
 "metadata": {
  "kernelspec": {
   "display_name": "Python 3",
   "language": "python",
   "name": "python3"
  },
  "language_info": {
   "codemirror_mode": {
    "name": "ipython",
    "version": 3
   },
   "file_extension": ".py",
   "mimetype": "text/x-python",
   "name": "python",
   "nbconvert_exporter": "python",
   "pygments_lexer": "ipython3",
   "version": "3.6.9"
  }
 },
 "nbformat": 4,
 "nbformat_minor": 2
}
