{
 "cells": [
  {
   "cell_type": "code",
   "execution_count": 1,
   "metadata": {},
   "outputs": [],
   "source": [
    "import numpy as np\n",
    "import math, json\n",
    "from rdp import rdp"
   ]
  },
  {
   "cell_type": "code",
   "execution_count": 2,
   "metadata": {},
   "outputs": [],
   "source": [
    "def create_animation(drawing, fps = 30, idx = 0, lw = 5): \n",
    "  \n",
    "  seq_length = 0 \n",
    "  \n",
    "  xmax = 0 \n",
    "  ymax = 0 \n",
    "  \n",
    "  xmin = math.inf\n",
    "  ymin = math.inf\n",
    "  \n",
    "  #retreive min,max and the length of the drawing  \n",
    "  for k in range(0, len(drawing)):\n",
    "    x = drawing[k][0]\n",
    "    y = drawing[k][1]\n",
    "\n",
    "    seq_length += len(x)\n",
    "    xmax = max([max(x), xmax]) \n",
    "    ymax = max([max(y), ymax]) \n",
    "    \n",
    "    xmin = min([min(x), xmin]) \n",
    "    ymin = min([min(y), ymin]) \n",
    "    \n",
    "  i = 0 \n",
    "  j = 0\n",
    "  \n",
    "  # First set up the figure, the axis, and the plot element we want to animate\n",
    "  fig = plt.figure()\n",
    "  ax = plt.axes(xlim=(xmax+lw, xmin-lw), ylim=(ymax+lw, ymin-lw))\n",
    "  ax.set_facecolor(\"white\")\n",
    "  line, = ax.plot([], [], lw=lw)\n",
    "\n",
    "  #remove the axis \n",
    "  ax.grid = False\n",
    "  ax.set_xticks([])\n",
    "  ax.set_yticks([])\n",
    "  \n",
    "  # initialization function: plot the background of each frame\n",
    "  def init():\n",
    "      line.set_data([], [])\n",
    "      return line, \n",
    "\n",
    "  # animation function.  This is called sequentially\n",
    "  def animate(frame):    \n",
    "    nonlocal i, j, line\n",
    "    x = drawing[i][0]\n",
    "    y = drawing[i][1]\n",
    "    line.set_data(x[0:j], y[0:j])\n",
    "    \n",
    "    if j >= len(x):\n",
    "      i +=1\n",
    "      j = 0 \n",
    "      line, = ax.plot([], [], lw=lw)\n",
    "      \n",
    "    else:\n",
    "      j += 1\n",
    "    return line,\n",
    "  \n",
    "  # call the animator.  blit=True means only re-draw the parts that have changed.\n",
    "  anim = animation.FuncAnimation(fig, animate, init_func=init,\n",
    "                                 frames= seq_length + len(drawing), blit=True)\n",
    "  plt.close()\n",
    "  \n",
    "  # save the animation as an mp4.  \n",
    "  anim.save(f'video.mp4', fps=fps, extra_args=['-vcodec', 'libx264'])"
   ]
  },
  {
   "cell_type": "code",
   "execution_count": 65,
   "metadata": {},
   "outputs": [],
   "source": [
    "import numpy as np\n",
    "import matplotlib.pyplot as plt\n",
    "from matplotlib import animation\n",
    "from IPython.display import HTML"
   ]
  },
  {
   "cell_type": "code",
   "execution_count": 66,
   "metadata": {},
   "outputs": [
    {
     "name": "stdout",
     "output_type": "stream",
     "text": [
      "['server/data/Ryan_ريان.json']\n"
     ]
    }
   ],
   "source": [
    "import glob\n",
    "npy_files = glob.glob('server/data/*')\n",
    "print(npy_files)"
   ]
  },
  {
   "cell_type": "code",
   "execution_count": 68,
   "metadata": {},
   "outputs": [],
   "source": [
    "drawing = json.load(open(npy_files[0]))"
   ]
  },
  {
   "cell_type": "code",
   "execution_count": 69,
   "metadata": {},
   "outputs": [
    {
     "name": "stdout",
     "output_type": "stream",
     "text": [
      "processing  ر\n",
      "current length of stroke  35\n",
      "post length of stroke  35\n",
      "processing  ى\n",
      "current length of stroke  15\n",
      "post length of stroke  15\n",
      "processing  .\n",
      "current length of stroke  1\n",
      "post length of stroke  1\n",
      "processing  .\n",
      "current length of stroke  1\n",
      "post length of stroke  1\n",
      "processing  ا\n",
      "current length of stroke  22\n",
      "post length of stroke  22\n",
      "processing  .\n",
      "current length of stroke  1\n",
      "post length of stroke  1\n",
      "processing  ں\n",
      "current length of stroke  58\n",
      "post length of stroke  58\n",
      "133\n"
     ]
    }
   ],
   "source": [
    "data = []\n",
    "total_len_strokes = 0\n",
    "for item in drawing:\n",
    "    xs = []\n",
    "    ys = []\n",
    "    char = list(item.keys())[0]\n",
    "    stroke = item[char]\n",
    "    if len(stroke):\n",
    "        print('processing ', char)\n",
    "        print('current length of stroke ', len(stroke))\n",
    "        post_stroke = rdp(stroke)\n",
    "        print('post length of stroke ', len(post_stroke))\n",
    "        total_len_strokes += len(post_stroke)\n",
    "        for x, y in post_stroke:\n",
    "            xs.append(500 - x)\n",
    "            ys.append(y)\n",
    "        data.append([xs, ys])\n",
    "\n",
    "print(total_len_strokes)"
   ]
  },
  {
   "cell_type": "code",
   "execution_count": 70,
   "metadata": {},
   "outputs": [
    {
     "data": {
      "text/plain": [
       "[{'ر': [[298.32586669921875, 235.19082641601562],\n",
       "   [295.76849365234375, 246.0426025390625],\n",
       "   [294.73175048828125, 248.94561767578125],\n",
       "   [293.6258544921875, 252.40158081054688],\n",
       "   [292.45086669921875, 255.09722900390625],\n",
       "   [291.20672607421875, 258.2767333984375],\n",
       "   [289.962646484375, 261.3179931640625],\n",
       "   [288.5111083984375, 264.49749755859375],\n",
       "   [286.85235595703125, 267.26226806640625],\n",
       "   [284.84796142578125, 269.7506103515625],\n",
       "   [283.11993408203125, 272.0315246582031],\n",
       "   [281.1846923828125, 274.3816223144531],\n",
       "   [278.83465576171875, 276.8699035644531],\n",
       "   [276.76116943359375, 279.3582458496094],\n",
       "   [274.4111328125, 281.77740478515625],\n",
       "   [271.99200439453125, 284.12750244140625],\n",
       "   [269.5037536621094, 285.9245910644531],\n",
       "   [267.0155334472656, 288.1363830566406],\n",
       "   [264.52728271484375, 290.07171630859375],\n",
       "   [262.2464294433594, 291.3850402832031],\n",
       "   [259.8272705078125, 292.7674255371094],\n",
       "   [257.2699279785156, 294.3571472167969],\n",
       "   [254.78167724609375, 295.3939514160156],\n",
       "   [252.29339599609375, 296.77630615234375],\n",
       "   [249.80517578125, 297.9513854980469],\n",
       "   [246.97134399414062, 298.9881896972656],\n",
       "   [244.96694946289062, 299.88677978515625],\n",
       "   [242.54779052734375, 300.5779724121094],\n",
       "   [240.40518188476562, 300.99261474609375],\n",
       "   [238.26254272460938, 301.5455627441406],\n",
       "   [236.11990356445312, 302.0985412597656],\n",
       "   [233.8389892578125, 302.5133056640625],\n",
       "   [231.6964111328125, 302.7897033691406],\n",
       "   [230.52133178710938, 302.7897033691406],\n",
       "   [230.03753662109375, 302.6515197753906]]},\n",
       " {'ى': [[254.43609619140625, 251.64126586914062],\n",
       "   [250.28900146484375, 263.25335693359375],\n",
       "   [248.0772705078125, 265.8798828125],\n",
       "   [246.0728759765625, 267.8152160644531],\n",
       "   [243.72280883789062, 269.5431823730469],\n",
       "   [241.37283325195312, 270.9947814941406],\n",
       "   [239.36843872070312, 272.0315246582031],\n",
       "   [236.81103515625, 272.9300842285156],\n",
       "   [234.4610595703125, 273.6212463378906],\n",
       "   [232.59487915039062, 274.0360412597656],\n",
       "   [231.00515747070312, 274.31243896484375],\n",
       "   [229.62283325195312, 274.45074462890625],\n",
       "   [228.86257934570312, 274.45074462890625],\n",
       "   [228.5860595703125, 273.96685791015625],\n",
       "   [228.5860595703125, 273.7595520019531]]},\n",
       " {'.': [[236.39633178710938, 346.81890869140625]]},\n",
       " {'.': [[261.6934814453125, 348.2012939453125]]},\n",
       " {'ا': [[243.03164672851562, 210.584228515625],\n",
       "   [237.57135009765625, 222.81842041015625],\n",
       "   [236.05072021484375, 226.75823974609375],\n",
       "   [234.4610595703125, 230.697998046875],\n",
       "   [233.14779663085938, 234.70693969726562],\n",
       "   [232.18017578125, 238.7850341796875],\n",
       "   [231.35073852539062, 242.58657836914062],\n",
       "   [230.59048461914062, 245.69699096679688],\n",
       "   [229.62283325195312, 249.15298461914062],\n",
       "   [228.79339599609375, 252.60897827148438],\n",
       "   [227.82574462890625, 255.30459594726562],\n",
       "   [226.99630737304688, 258.2076416015625],\n",
       "   [226.16690063476562, 261.5945129394531],\n",
       "   [225.40664672851562, 264.7740478515625],\n",
       "   [225.26840209960938, 267.26226806640625],\n",
       "   [225.40664672851562, 268.99029541015625],\n",
       "   [226.09780883789062, 270.71826171875],\n",
       "   [226.92718505859375, 272.1698303222656],\n",
       "   [227.82574462890625, 273.4139709472656],\n",
       "   [228.65518188476562, 274.5890197753906],\n",
       "   [229.2081298828125, 275.2801818847656],\n",
       "   [229.76101684570312, 275.55657958984375]]},\n",
       " {'.': [[241.23458862304688, 125.01419067382812]]},\n",
       " {'ں': [[339.72735595703125, 114.09329223632812],\n",
       "   [329.84356689453125, 123.14794921875],\n",
       "   [324.7979736328125, 127.0186767578125],\n",
       "   [319.19940185546875, 131.51141357421875],\n",
       "   [313.39349365234375, 135.865966796875],\n",
       "   [307.17291259765625, 140.08224487304688],\n",
       "   [301.02142333984375, 144.64413452148438],\n",
       "   [294.5244140625, 149.2060546875],\n",
       "   [287.336181640625, 153.90615844726562],\n",
       "   [280.42437744140625, 158.67544555664062],\n",
       "   [273.78900146484375, 163.168212890625],\n",
       "   [267.7066955566406, 167.522705078125],\n",
       "   [261.9699401855469, 171.66986083984375],\n",
       "   [256.5787353515625, 176.0244140625],\n",
       "   [252.01693725585938, 179.68777465820312],\n",
       "   [246.48751831054688, 183.21286010742188],\n",
       "   [241.23458862304688, 186.80706787109375],\n",
       "   [236.81103515625, 190.47042846679688],\n",
       "   [232.04193115234375, 193.92642211914062],\n",
       "   [227.06549072265625, 197.38241577148438],\n",
       "   [222.15811157226562, 200.83834838867188],\n",
       "   [217.66546630859375, 203.94879150390625],\n",
       "   [213.51837158203125, 207.47381591796875],\n",
       "   [209.44039916992188, 210.86074829101562],\n",
       "   [205.01690673828125, 214.31668090820312],\n",
       "   [200.45510864257812, 218.18740844726562],\n",
       "   [196.86099243164062, 222.05807495117188],\n",
       "   [193.61245727539062, 225.85968017578125],\n",
       "   [190.15658569335938, 229.66122436523438],\n",
       "   [186.49331665039062, 234.01577758789062],\n",
       "   [183.03744506835938, 238.508544921875],\n",
       "   [179.78890991210938, 242.79397583007812],\n",
       "   [176.26388549804688, 247.2176513671875],\n",
       "   [172.6697998046875, 251.64126586914062],\n",
       "   [169.144775390625, 256.2723083496094],\n",
       "   [165.896240234375, 261.0415344238281],\n",
       "   [163.06240844726562, 266.01812744140625],\n",
       "   [159.6756591796875, 270.6491394042969],\n",
       "   [156.77273559570312, 274.79632568359375],\n",
       "   [154.76828002929688, 278.9434814453125],\n",
       "   [153.04037475585938, 283.0907287597656],\n",
       "   [151.79623413085938, 286.8231506347656],\n",
       "   [150.5521240234375, 291.0394592285156],\n",
       "   [149.44619750976562, 295.04833984375],\n",
       "   [148.6859130859375, 299.40289306640625],\n",
       "   [148.54769897460938, 303.2735900878906],\n",
       "   [149.37710571289062, 307.6281433105469],\n",
       "   [150.48300170898438, 311.5679931640625],\n",
       "   [151.657958984375, 315.3695373535156],\n",
       "   [153.45504760742188, 319.37841796875],\n",
       "   [155.32119750976562, 322.6270751953125],\n",
       "   [158.22415161132812, 326.4287109375],\n",
       "   [161.403564453125, 329.5390625],\n",
       "   [164.3065185546875, 331.88909912109375],\n",
       "   [166.93301391601562, 333.61712646484375],\n",
       "   [168.6610107421875, 335.06866455078125],\n",
       "   [169.69769287109375, 336.45098876953125],\n",
       "   [169.69769287109375, 337.62603759765625]]}]"
      ]
     },
     "execution_count": 70,
     "metadata": {},
     "output_type": "execute_result"
    }
   ],
   "source": [
    "drawing"
   ]
  },
  {
   "cell_type": "code",
   "execution_count": 71,
   "metadata": {},
   "outputs": [],
   "source": [
    "create_animation(data)"
   ]
  },
  {
   "cell_type": "code",
   "execution_count": 72,
   "metadata": {},
   "outputs": [
    {
     "data": {
      "text/html": [
       "<video alt=\"video\" autoplay>\n",
       "                <source src=\"data:video/mp4;base64,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\" type=\"video/mp4\" />\n",
       "             </video>"
      ],
      "text/plain": [
       "<IPython.core.display.HTML object>"
      ]
     },
     "execution_count": 72,
     "metadata": {},
     "output_type": "execute_result"
    }
   ],
   "source": [
    "import io\n",
    "import base64\n",
    "video = io.open('video.mp4', 'r+b').read()\n",
    "\n",
    "encoded = base64.b64encode(video)\n",
    "HTML(data='''<video alt=\"video\" autoplay>\n",
    "                <source src=\"data:video/mp4;base64,{0}\" type=\"video/mp4\" />\n",
    "             </video>'''.format(encoded.decode('ascii')))"
   ]
  },
  {
   "cell_type": "code",
   "execution_count": null,
   "metadata": {},
   "outputs": [],
   "source": []
  }
 ],
 "metadata": {
  "kernelspec": {
   "display_name": "Python 3",
   "language": "python",
   "name": "python3"
  },
  "language_info": {
   "codemirror_mode": {
    "name": "ipython",
    "version": 3
   },
   "file_extension": ".py",
   "mimetype": "text/x-python",
   "name": "python",
   "nbconvert_exporter": "python",
   "pygments_lexer": "ipython3",
   "version": "3.6.9"
  }
 },
 "nbformat": 4,
 "nbformat_minor": 2
}
